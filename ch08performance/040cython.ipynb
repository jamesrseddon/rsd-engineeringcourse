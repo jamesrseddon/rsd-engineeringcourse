{
 "cells": [
  {
   "cell_type": "markdown",
   "metadata": {},
   "source": [
    "## Cython\n",
    "Cython can be viewed as an extension of Python where variables and functions are annotated with extra information, in particular types. The resulting Cython source code will be compiled into optimized C or C++ code, and thereby yielding substantial speed-up of slow Python code. In other word, cython provides a way of writting Python with  comparable performance to that of C/C++."
   ]
  },
  {
   "cell_type": "markdown",
   "metadata": {},
   "source": [
    "### Start  Coding in Cython"
   ]
  },
  {
   "cell_type": "markdown",
   "metadata": {
    "collapsed": false
   },
   "source": [
    "Cython code must, unlike Python, be compiled. This happens in the following stages:\n",
    "\n",
    "* The cython code in `.pyx` file will be translated to a `C` file.\n",
    "* The `C` file will be compiled by a C compiler into a shared library, which will be directely loaded into Python. \n",
    "\n",
    "In ipython notebook, everything is a lot easier. One need only to load Cython extension (`%load_ext Cython`) at the beginning and put `%%cython` mark in front of cells of cython code. Cells with cython mark will be treated as a `.pyx` code and consequently, compiled into C. \n",
    "\n",
    "For details, please see [Building Cython Code](http://docs.cython.org/src/quickstart/build.html).\n"
   ]
  },
  {
   "cell_type": "markdown",
   "metadata": {},
   "source": [
    "**Pure python Mandelbrot set:**"
   ]
  },
  {
   "cell_type": "code",
   "execution_count": 1,
   "metadata": {
    "collapsed": false
   },
   "outputs": [],
   "source": [
    "xmin=-1.5\n",
    "ymin=-1.0\n",
    "xmax=0.5\n",
    "ymax=1.0\n",
    "resolution=300\n",
    "xstep=(xmax-xmin)/resolution\n",
    "ystep=(ymax-ymin)/resolution\n",
    "xs=[(xmin+(xmax-xmin)*i/resolution) for i in range(resolution)]\n",
    "ys=[(ymin+(ymax-ymin)*i/resolution) for i in range(resolution)]"
   ]
  },
  {
   "cell_type": "code",
   "execution_count": 2,
   "metadata": {
    "collapsed": true
   },
   "outputs": [],
   "source": [
    "def mandel(position,limit=50):\n",
    "    value=position\n",
    "    while abs(value)<2:\n",
    "        limit-=1\n",
    "        value=value**2+position\n",
    "        if limit<0:\n",
    "            return 0\n",
    "    return limit"
   ]
  },
  {
   "cell_type": "markdown",
   "metadata": {},
   "source": [
    "**Compiled by Cython:**"
   ]
  },
  {
   "cell_type": "code",
   "execution_count": 3,
   "metadata": {
    "collapsed": false
   },
   "outputs": [],
   "source": [
    "%load_ext Cython "
   ]
  },
  {
   "cell_type": "code",
   "execution_count": 25,
   "metadata": {
    "collapsed": false
   },
   "outputs": [],
   "source": [
    "%%cython\n",
    "\n",
    "def mandel_cython(position,limit=50):\n",
    "    value=position\n",
    "    while abs(value)<2:\n",
    "        limit-=1\n",
    "        value=value**2+position\n",
    "        if limit<0:\n",
    "            return 0\n",
    "    return limit"
   ]
  },
  {
   "cell_type": "markdown",
   "metadata": {},
   "source": [
    "Let's verify the result"
   ]
  },
  {
   "cell_type": "code",
   "execution_count": 26,
   "metadata": {
    "collapsed": false
   },
   "outputs": [
    {
     "data": {
      "text/plain": [
       "<matplotlib.text.Text at 0x10e1ee950>"
      ]
     },
     "execution_count": 26,
     "metadata": {},
     "output_type": "execute_result"
    },
    {
     "data": {
      "image/png": "[encoded data removed]",
      "text/plain": [
       "<matplotlib.figure.Figure at 0x10d7959d0>"
      ]
     },
     "metadata": {},
     "output_type": "display_data"
    }
   ],
   "source": [
    "from matplotlib import pyplot as plt\n",
    "%matplotlib inline\n",
    "f, axarr = plt.subplots(1,2)\n",
    "axarr[0].imshow([[mandel(complex(x,y)) for x in xs] for y in ys],interpolation='none')\n",
    "axarr[0].set_title('Pure Python')\n",
    "axarr[1].imshow([[mandel(complex(x,y)) for x in xs] for y in ys],interpolation='none')\n",
    "axarr[1].set_title('Cython')"
   ]
  },
  {
   "cell_type": "code",
   "execution_count": 6,
   "metadata": {
    "collapsed": false
   },
   "outputs": [
    {
     "name": "stdout",
     "output_type": "stream",
     "text": [
      "1 loops, best of 3: 528 ms per loop\n",
      "1 loops, best of 3: 303 ms per loop\n"
     ]
    }
   ],
   "source": [
    "%timeit [[mandel(complex(x,y)) for x in xs] for y in ys] # pure python\n",
    "%timeit [[mandel_cython(complex(x,y)) for x in xs] for y in ys] # cython"
   ]
  },
  {
   "cell_type": "markdown",
   "metadata": {},
   "source": [
    "We have improved the performance of a factor of 1.5 by just using the cython compiler, **without changing the code**!"
   ]
  },
  {
   "cell_type": "markdown",
   "metadata": {},
   "source": [
    "### Cython with C Types\n",
    "But we can do better by telling Cython what C data type we would use in the code. Note we're not actually writing C, we're writing Python with C types."
   ]
  },
  {
   "cell_type": "markdown",
   "metadata": {},
   "source": [
    "_typed variable_"
   ]
  },
  {
   "cell_type": "code",
   "execution_count": 7,
   "metadata": {
    "collapsed": false
   },
   "outputs": [],
   "source": [
    "%%cython\n",
    "def var_typed_mandel_cython(position, limit=50):\n",
    "    cdef double complex value # typed variable\n",
    "    value=position\n",
    "    while abs(value)<2:\n",
    "        limit-=1\n",
    "        value=value**2+position\n",
    "        if limit<0:\n",
    "            return 0\n",
    "    return limit"
   ]
  },
  {
   "cell_type": "markdown",
   "metadata": {
    "collapsed": true
   },
   "source": [
    "_typed function + typed variable_"
   ]
  },
  {
   "cell_type": "code",
   "execution_count": 8,
   "metadata": {
    "collapsed": false
   },
   "outputs": [],
   "source": [
    "%%cython\n",
    "cpdef call_typed_mandel_cython(double complex position,\n",
    "                               int limit=50): # typed function\n",
    "    cdef double complex value # typed variable\n",
    "    value=position\n",
    "    while abs(value)<2:\n",
    "        limit-=1\n",
    "        value=value**2+position\n",
    "        if limit<0:\n",
    "            return 0\n",
    "    return limit"
   ]
  },
  {
   "cell_type": "markdown",
   "metadata": {
    "collapsed": true
   },
   "source": [
    "performance of one number:"
   ]
  },
  {
   "cell_type": "code",
   "execution_count": 27,
   "metadata": {
    "collapsed": false,
    "scrolled": true
   },
   "outputs": [
    {
     "name": "stdout",
     "output_type": "stream",
     "text": [
      "100000 loops, best of 3: 11.3 µs per loop\n"
     ]
    }
   ],
   "source": [
    "# pure python\n",
    "%timeit a=mandel(complex(0,0)) "
   ]
  },
  {
   "cell_type": "code",
   "execution_count": 28,
   "metadata": {
    "collapsed": false
   },
   "outputs": [
    {
     "name": "stdout",
     "output_type": "stream",
     "text": [
      "100000 loops, best of 3: 6.6 µs per loop\n"
     ]
    }
   ],
   "source": [
    "# premitive cython\n",
    "%timeit a=mandel_cython(complex(0,0)) "
   ]
  },
  {
   "cell_type": "code",
   "execution_count": 29,
   "metadata": {
    "collapsed": false
   },
   "outputs": [
    {
     "name": "stdout",
     "output_type": "stream",
     "text": [
      "100000 loops, best of 3: 5.56 µs per loop\n"
     ]
    }
   ],
   "source": [
    "# cython with C type variable\n",
    "%timeit a=var_typed_mandel_cython(complex(0,0)) "
   ]
  },
  {
   "cell_type": "code",
   "execution_count": 30,
   "metadata": {
    "collapsed": false
   },
   "outputs": [
    {
     "name": "stdout",
     "output_type": "stream",
     "text": [
      "100000 loops, best of 3: 2.66 µs per loop\n"
     ]
    }
   ],
   "source": [
    "# cython with typed variable + function\n",
    "%timeit a=call_typed_mandel_cython(complex(0,0))"
   ]
  },
  {
   "cell_type": "markdown",
   "metadata": {
    "collapsed": false
   },
   "source": [
    "### Cython with numpy ndarray\n",
    "You can use NumPy from Cython exactly the same as in regular Python, but by doing so you are losing potentially high speedups because Cython has support for fast access to NumPy arrays. "
   ]
  },
  {
   "cell_type": "code",
   "execution_count": 13,
   "metadata": {
    "collapsed": false
   },
   "outputs": [],
   "source": [
    "import numpy as np\n",
    "ymatrix,xmatrix=np.mgrid[ymin:ymax:ystep,xmin:xmax:xstep]\n",
    "values=xmatrix+1j*ymatrix"
   ]
  },
  {
   "cell_type": "code",
   "execution_count": 31,
   "metadata": {
    "collapsed": false
   },
   "outputs": [],
   "source": [
    "%%cython\n",
    "import numpy as np\n",
    "cimport numpy as np \n",
    "\n",
    "cpdef numpy_cython_1(np.ndarray[double complex, ndim=2] position, \n",
    "                     int limit=50): \n",
    "    cdef np.ndarray[long,ndim=2] diverged_at\n",
    "    cdef double complex value\n",
    "    cdef int xlim\n",
    "    cdef int ylim\n",
    "    cdef double complex pos\n",
    "    cdef int steps\n",
    "    cdef int x, y\n",
    "\n",
    "    xlim=position.shape[1]\n",
    "    ylim=position.shape[0]\n",
    "    diverged_at=np.zeros([ylim, xlim], dtype=int)\n",
    "    for x in xrange(xlim):\n",
    "        for y in xrange(ylim):\n",
    "             steps=limit\n",
    "             value=position[y,x]\n",
    "             pos=position[y,x]\n",
    "             while abs(value)<2 and steps>=0:\n",
    "                steps-=1\n",
    "                value=value**2+pos\n",
    "             diverged_at[y,x]=steps\n",
    "  \n",
    "    return diverged_at"
   ]
  },
  {
   "cell_type": "markdown",
   "metadata": {},
   "source": [
    "Note the double import of numpy: the standard numpy module and a Cython-enabled version of numpy that ensures fast indexing of and other operations on arrays. Both import statements are necessary in code that uses numpy arrays. The new thing in the code above is declaration of arrays by np.ndarray."
   ]
  },
  {
   "cell_type": "code",
   "execution_count": 32,
   "metadata": {
    "collapsed": false
   },
   "outputs": [
    {
     "name": "stdout",
     "output_type": "stream",
     "text": [
      "1 loops, best of 3: 511 ms per loop\n"
     ]
    }
   ],
   "source": [
    "%timeit data_cy=[[mandel(complex(x,y)) for x in xs] for y in ys] # pure python"
   ]
  },
  {
   "cell_type": "code",
   "execution_count": 33,
   "metadata": {
    "collapsed": false
   },
   "outputs": [
    {
     "name": "stdout",
     "output_type": "stream",
     "text": [
      "10 loops, best of 3: 135 ms per loop\n"
     ]
    }
   ],
   "source": [
    "%timeit data_cy=[[call_typed_mandel_cython(complex(x,y)) for x in xs] for y in ys] # typed cython"
   ]
  },
  {
   "cell_type": "code",
   "execution_count": 34,
   "metadata": {
    "collapsed": false
   },
   "outputs": [
    {
     "name": "stdout",
     "output_type": "stream",
     "text": [
      "10 loops, best of 3: 105 ms per loop\n"
     ]
    }
   ],
   "source": [
    "%timeit numpy_cython_1(values) # ndarray"
   ]
  },
  {
   "cell_type": "markdown",
   "metadata": {
    "collapsed": false
   },
   "source": [
    "**A trick of using `np.vectorize`**"
   ]
  },
  {
   "cell_type": "code",
   "execution_count": 18,
   "metadata": {
    "collapsed": false
   },
   "outputs": [],
   "source": [
    "numpy_cython_2=np.vectorize(call_typed_mandel_cython)"
   ]
  },
  {
   "cell_type": "code",
   "execution_count": 19,
   "metadata": {
    "collapsed": false
   },
   "outputs": [
    {
     "name": "stdout",
     "output_type": "stream",
     "text": [
      "10 loops, best of 3: 122 ms per loop\n"
     ]
    }
   ],
   "source": [
    "%timeit numpy_cython_2(values) #  vectorize"
   ]
  },
  {
   "cell_type": "markdown",
   "metadata": {},
   "source": [
    "### Calling C functions from Cython\n",
    "\n",
    "**Example: compare `sin()` from Python and C library**"
   ]
  },
  {
   "cell_type": "code",
   "execution_count": 20,
   "metadata": {
    "collapsed": false
   },
   "outputs": [],
   "source": [
    "%%cython\n",
    "import math\n",
    "cpdef py_sin():\n",
    "    cdef int x\n",
    "    cdef double y\n",
    "    for x in xrange(1e7):\n",
    "        y=math.sin(x)"
   ]
  },
  {
   "cell_type": "code",
   "execution_count": 21,
   "metadata": {
    "collapsed": false
   },
   "outputs": [],
   "source": [
    "%%cython\n",
    "from libc.math cimport sin as csin # import from C library\n",
    "cpdef c_sin():\n",
    "    cdef int x\n",
    "    cdef double y\n",
    "    for x in xrange(1e7):\n",
    "        y = csin(x)"
   ]
  },
  {
   "cell_type": "code",
   "execution_count": 22,
   "metadata": {
    "collapsed": false
   },
   "outputs": [
    {
     "name": "stdout",
     "output_type": "stream",
     "text": [
      "1 loops, best of 3: 1.48 s per loop\n"
     ]
    }
   ],
   "source": [
    "%timeit [math.sin(i) for i in xrange(int(1e7))] # python"
   ]
  },
  {
   "cell_type": "code",
   "execution_count": 23,
   "metadata": {
    "collapsed": false
   },
   "outputs": [
    {
     "name": "stdout",
     "output_type": "stream",
     "text": [
      "1 loops, best of 3: 911 ms per loop\n"
     ]
    }
   ],
   "source": [
    "%timeit py_sin()                                # cython call python library"
   ]
  },
  {
   "cell_type": "code",
   "execution_count": 24,
   "metadata": {
    "collapsed": false
   },
   "outputs": [
    {
     "name": "stdout",
     "output_type": "stream",
     "text": [
      "100 loops, best of 3: 6.06 ms per loop\n"
     ]
    }
   ],
   "source": [
    "%timeit c_sin()                                 # cython call C library"
   ]
  }
 ],
 "metadata": {
  "jekyll": {
   "display_name": "Cython"
  },
  "kernelspec": {
   "display_name": "Python 2",
   "language": "python",
   "name": "python2"
  },
  "language_info": {
   "codemirror_mode": {
    "name": "ipython",
    "version": 2
   },
   "file_extension": ".py",
   "mimetype": "text/x-python",
   "name": "python",
   "nbconvert_exporter": "python",
   "pygments_lexer": "ipython2",
   "version": "2.7.10"
  }
 },
 "nbformat": 4,
 "nbformat_minor": 0
}
